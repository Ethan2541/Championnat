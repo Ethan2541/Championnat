{
 "cells": [
  {
   "cell_type": "markdown",
   "metadata": {},
   "source": [
    "# Problème : Organisation d’un championnat\n",
    "\n",
    "**Auteurs**\n",
    "- 28627904 LUONG Ethan\n",
    "- 21304385 PHAM Louis-Antoine\n",
    "\n",
    "**Objectif.** Le but de ce TME est de programmer la grille de match d’un championnat. On considère qu’il y a $n_e$ équipes participantes. Les matchs de championnat peuvent se d´erouler le mercredi ou le dimanche. Le championnat dure (au maximum) ns semaines (avec 2 matchs par semaine), soit $n_j = 2\\times n_s$ jours de match.\n",
    "\n",
    "Les matchs se font sur le terrain de l’une des deux équipes, qui est considérée comme jouant *à domicile*. L’autre équipe joue *à l’extérieur*. Etant donné les déplacements et la fatigue du match, chaque équipe ne peut jouer plus d’un match par jour. Sur la durée du championnat, chaque équipe doit rencontrer l’ensemble des autres équipes une fois *à domicile* et une fois *à l’extérieur*, soit exactement 2 matchs par équipe adverse.\n",
    "\n",
    "Le but est de produire un planning des matchs, indiquant pour chaque jour quelles équipes s’affrontent en précisant où ont lieu les matchs.\n",
    "\n",
    "Afin d’avoir une solution générique, paramétrable par $n_j$ et $n_e$, et en raison du nombre important de variables propositionnelles et de contraintes à considérer, les exercices suivants ont pour objectif d’écrire des fonctions permettant de générer le fichier DIMACS représentant le problème. Le langage de programmation est au choix."
   ]
  },
  {
   "cell_type": "markdown",
   "metadata": {},
   "source": [
    "## Modélisation\n",
    "\n",
    "Chaque équipe correspond à un numéro entre $0$ et $n_e−1$. De même, chaque jour de match correspond à un numéro entre $0$ et $n_j−1$. On considère que le championnat commence un mercredi. Les jours pairs ($0$ compris), correspondent donc à des mercredis, tandis que les jours impairs correspondent à des dimanches.\n",
    "\n",
    "On représente par des variables propositionnelles $m{j,x,y}$ le fait qu’il y ait (ou non) un match entre l’´equipe $x$, jouant *à domicile*, et l’équipe $y$ au jour $j$.\n",
    "\n",
    "Au format DIMACS toutes les variables doivent être numérotées. On propose de coder la variable $m{j,x,y}$ par $v_k$ où $k = j\\times n_e^2 + x\\times n_e + y + 1$."
   ]
  },
  {
   "cell_type": "code",
   "execution_count": null,
   "metadata": {},
   "outputs": [],
   "source": [
    "# Il y a mjxy = nj*ne*ne sans la contrainte x != y\n",
    "\n",
    "def codage(ne, nj, j, x, y):\n",
    "    assert(ne > 0)\n",
    "    assert(j <= nj-1 and j >= 0)\n",
    "    assert(x <= ne-1 and x >= 0)\n",
    "    assert(x <= ne-1 and x >= 0)\n",
    "    return j*ne**2 + x*ne + y + 1\n",
    "\n",
    "k = codage(3, 2, 1, 2, 1)\n",
    "print('Codage : ', k)\n",
    "\n",
    "# On peut voir k comme un mot en base ne avec 3 chiffres : j, x, y\n",
    "def decodage(k, ne):\n",
    "    assert(ne > 0)\n",
    "    y = (k-1) % ne\n",
    "    x = ((k-1) // ne) % ne\n",
    "    j = (k-1) // ne**2\n",
    "    return j, x, y\n",
    "\n",
    "print('Decodage : ', decodage(k, 3))"
   ]
  },
  {
   "cell_type": "code",
   "execution_count": null,
   "metadata": {},
   "outputs": [],
   "source": [
    "print('Tests des intervalles de valeurs :')\n",
    "try:\n",
    "    codage(0, 2, 2, 2, 1)\n",
    "except AssertionError:\n",
    "    print('\\tIl faut ne > 0')\n",
    "\n",
    "try:\n",
    "    codage(1, 2, 2, 2, 1)\n",
    "except AssertionError:\n",
    "    print('\\tx et y doivent être strictement plus petits que ne')\n",
    "\n",
    "try:\n",
    "    codage(3, 2, 4, 2, 1)\n",
    "except AssertionError:\n",
    "    print('\\tj doit être strictement plus petit que nj')"
   ]
  },
  {
   "cell_type": "code",
   "execution_count": null,
   "metadata": {},
   "outputs": [],
   "source": [
    "print('Tests des valeurs de codage')\n",
    "assert(codage(3, 2, 0, 0, 0) == 1)\n",
    "assert(codage(3, 2, 1, 2, 1) == 17)\n",
    "assert(codage(3, 2, 1, 0, 0) == 10)\n",
    "print('Tests réussis !')"
   ]
  },
  {
   "cell_type": "code",
   "execution_count": null,
   "metadata": {},
   "outputs": [],
   "source": [
    "print('Tests décodage')\n",
    "assert(decodage(codage(3, 3, 2, 0, 0), 3) == (2, 0, 0))\n",
    "assert(decodage(codage(3, 6, 5, 2, 1), 3) == (5, 2, 1))\n",
    "print('Tests réussis !')"
   ]
  },
  {
   "cell_type": "markdown",
   "metadata": {},
   "source": [
    "## Génération d'un planning de matchs\n",
    "\n",
    "Le but de cet exercice est de résoudre le problème par une méthode SAT directe. Il s’agit donc de traduire et encoder le problème en SAT, d’utiliser glucose pour résoudre le problème ainsi traduit, puis de décoder le modèle fourni en un format adapté au problème et lisible."
   ]
  },
  {
   "cell_type": "code",
   "execution_count": null,
   "metadata": {},
   "outputs": [],
   "source": [
    "def au_moins(L):\n",
    "    assert(not any([v <= 0 for v in L]))\n",
    "    if len(L) == 0:\n",
    "        return ''\n",
    "    return ' '.join([str(v) for v in L]) + ' 0\\n'\n",
    "\n",
    "# Encodage par paires\n",
    "def au_plus(L):\n",
    "    assert(not any([v <= 0 for v in L]))\n",
    "    contrainte = ''\n",
    "    for i in range(len(L)):\n",
    "        for j in range(i+1, len(L)):\n",
    "            contrainte += f'{-L[i]} {-L[j]} 0\\n'\n",
    "    return contrainte"
   ]
  },
  {
   "cell_type": "code",
   "execution_count": null,
   "metadata": {},
   "outputs": [],
   "source": [
    "print('Tests de au_moins')\n",
    "assert(au_moins([]) == '')\n",
    "assert(au_moins([1, 2, 3]) == '1 2 3 0\\n')\n",
    "print('Tests réussis !')"
   ]
  },
  {
   "cell_type": "code",
   "execution_count": null,
   "metadata": {},
   "outputs": [],
   "source": [
    "print('Tests de au_plus')\n",
    "assert(au_plus([]) == '')\n",
    "assert(au_plus([1, 2, 3]) == '-1 -2 0\\n-1 -3 0\\n-2 -3 0\\n')\n",
    "print('Tests réussis !')"
   ]
  },
  {
   "cell_type": "code",
   "execution_count": null,
   "metadata": {},
   "outputs": [],
   "source": [
    "def encoderC1(ne, nj):\n",
    "    assert(ne > 0 and nj > 0)\n",
    "    C1 = ''\n",
    "    for j in range(nj):\n",
    "        for x in range(ne):\n",
    "            mjxy = [codage(ne, nj, j, x, y) for y in range(ne) if y != x] + [codage(ne, nj, j, y, x) for y in range(ne) if y != x]\n",
    "            C1 += au_plus(mjxy)\n",
    "    return C1, len(C1.split('\\n'))-1\n",
    "\n",
    "C1, n1 = encoderC1(3, 4)\n",
    "print('Nombres de contraintes C1 : ', n1)\n",
    "print('Contraintes C1 : ', C1)"
   ]
  },
  {
   "cell_type": "code",
   "execution_count": null,
   "metadata": {},
   "outputs": [],
   "source": [
    "def encoderC2(ne, nj):\n",
    "    assert(ne > 0 and nj > 0)\n",
    "    C2 = ''\n",
    "    for x in range(ne):\n",
    "        for y in range(x+1, ne):\n",
    "            mjxy = [codage(ne, nj, j, x, y) for j in range(nj)]\n",
    "            mjyx = [codage(ne, nj, j, y, x) for j in range(nj)]\n",
    "            C2 += au_moins(mjxy) + au_plus(mjxy)\n",
    "            C2 += au_moins(mjyx) + au_plus(mjyx)\n",
    "    return C2, len(C2.split('\\n'))-1\n",
    "\n",
    "C2, n2 = encoderC2(3, 4)\n",
    "print('Nombres de contraintes C2 : ', n2)\n",
    "print('Contraintes C2 : ', C2)"
   ]
  },
  {
   "cell_type": "code",
   "execution_count": null,
   "metadata": {},
   "outputs": [],
   "source": [
    "import os\n",
    "\n",
    "def encoderC0(ne, nj):\n",
    "    assert(ne > 0 and nj > 0)\n",
    "    L = [codage(ne, nj, j, x, x) for x in range(ne) for j in range(nj)]\n",
    "    C0 = ' 0\\n'.join([str(-v) for v in L]) + ' 0\\n'\n",
    "    return C0, len(C0.split('\\n'))-1\n",
    "\n",
    "def encoder(ne, nj):\n",
    "    assert(ne > 0 and nj > 0)\n",
    "    C0, n0 = encoderC0(ne, nj)\n",
    "    C1, n1 = encoderC1(ne, nj)\n",
    "    C2, n2 = encoderC2(ne, nj)\n",
    "    return f'p cnf {nj*ne**2} {n0+n1+n2}\\n{C0}{C1}{C2}'\n",
    "\n",
    "def dico_equipes(filename='equipes.txt'):\n",
    "    dico = {}\n",
    "    with open(filename, 'r') as f:\n",
    "        lignes = f.readlines()\n",
    "        for i, ligne in enumerate(lignes):\n",
    "            dico[i] = ligne\n",
    "        return dico\n",
    "\n",
    "def decoder(ne, equipes):\n",
    "    equipes = dico_equipes(equipes)\n",
    "    solution = ''\n",
    "    with open('resultats.txt', 'r') as f:\n",
    "        lignes = f.readlines()\n",
    "        for ligne in lignes:\n",
    "            tokens = ligne.split()\n",
    "            if len(tokens) == 0:\n",
    "                continue\n",
    "            if tokens[0] == 's' and tokens[1] == 'UNSATISFIABLE':\n",
    "                return 'UNSAT'\n",
    "            elif tokens[0] == 'v':\n",
    "                for v in tokens[1:]:\n",
    "                    if int(v) > 0:\n",
    "                        j, x, y = decodage(int(v), ne)\n",
    "                        solution += f'Jour {j} : {equipes[x][:-1]} (dom.) vs {equipes[y][:-1]} (ext.)\\n'\n",
    "    return solution\n",
    "            \n",
    "def programme(ne, nj, equipes):\n",
    "    os.system(f'echo \"{encoder(ne, nj)}\" | ../glucose/simp/glucose -model > resultats.txt')\n",
    "    return decoder(ne, equipes)"
   ]
  },
  {
   "cell_type": "code",
   "execution_count": null,
   "metadata": {},
   "outputs": [],
   "source": [
    "print(programme(3, 4, 'equipes.txt'))"
   ]
  },
  {
   "cell_type": "markdown",
   "metadata": {},
   "source": [
    "## Optimisation du nombre de jours"
   ]
  },
  {
   "cell_type": "code",
   "execution_count": null,
   "metadata": {},
   "outputs": [],
   "source": [
    "import signal\n",
    "\n",
    "class TimeoutError(Exception):\n",
    "    pass\n",
    "\n",
    "def signal_handler(signum, frame):\n",
    "    raise TimeoutError\n",
    "\n",
    "def optimiser_nj_selon_ne(equipes, ne_min=3, ne_max=11, timeout=10):\n",
    "    for ne in range(ne_min, ne_max+1):\n",
    "        nj_min = 2*(ne-1)\n",
    "        nj_max = ne*(ne-1)\n",
    "        nj_inf = nj_min\n",
    "        while nj_min <= nj_max:\n",
    "            nj = (nj_max + nj_min) // 2\n",
    "            signal.signal(signal.SIGALRM, signal_handler)\n",
    "            signal.alarm(timeout)\n",
    "            try:\n",
    "                solution = programme(ne, nj, equipes)\n",
    "            except TimeoutError:\n",
    "                solution = 'Timeout'\n",
    "            finally:\n",
    "                signal.alarm(0)\n",
    "                if solution != 'UNSAT':\n",
    "                    has_timeout = solution == 'Timeout'\n",
    "                    nj_max = nj - 1\n",
    "                    nj_inf = nj\n",
    "                else:\n",
    "                    nj_min = nj + 1\n",
    "        print(f'Pour ne = {ne}, on a nj_inf = {nj_inf} ({has_timeout and \"Timeout\" or \"OK\"})')\n",
    "\n",
    "optimiser_nj_selon_ne('equipes.txt')"
   ]
  },
  {
   "cell_type": "markdown",
   "metadata": {},
   "source": [
    "## Équilibrer les déplacements et les week-ends"
   ]
  },
  {
   "cell_type": "code",
   "execution_count": null,
   "metadata": {},
   "outputs": [],
   "source": [
    "from itertools import combinations\n",
    "\n",
    "def au_plus_etendu(L, k):\n",
    "    contrainte = ''\n",
    "    combinaisons = list(combinations(L, k+1))\n",
    "    for sous_liste in combinaisons:\n",
    "        contrainte += ' '.join([str(-v) for v in sous_liste]) + ' 0\\n'\n",
    "    return contrainte\n",
    "\n",
    "def au_moins_etendu(L, k):\n",
    "    N = len(L)\n",
    "    return au_plus_etendu([-v for v in L], N-k)\n",
    "\n",
    "print(au_plus_etendu([1, 2, 3, 4], 2))\n",
    "print(au_moins_etendu([1, 2, 3, 4], 2))"
   ]
  },
  {
   "cell_type": "code",
   "execution_count": null,
   "metadata": {},
   "outputs": [],
   "source": [
    "import math\n",
    "\n",
    "def encoderC3(ne, nj, p_ext=0.5, p_dom=0.4):\n",
    "    assert(ne > 0 and nj > 0)\n",
    "    assert(p_ext >= 0 and p_ext <= 1)\n",
    "    assert(p_dom >= 0 and p_dom <= 1)\n",
    "    C3 = ''\n",
    "    for x in range(ne):\n",
    "        L_ext = [codage(ne, nj, dimanche, y, x) for y in range(ne) if y != x for dimanche in range(1, nj, 2)]\n",
    "        C3 += au_moins_etendu(L_ext, math.ceil(p_ext*(ne-1)))\n",
    "        L_dom = [codage(ne, nj, dimanche, x, y) for y in range(ne) if y != x for dimanche in range(1, nj, 2)]\n",
    "        C3 += au_moins_etendu(L_dom, math.ceil(p_dom*(ne-1)))\n",
    "    return C3, len(C3.split('\\n'))-1\n",
    "\n",
    "C3, n3 = encoderC3(3, 4)\n",
    "print('Nombres de contraintes C3 : ', n3)\n",
    "print('Contraintes C3 : ', C3)"
   ]
  },
  {
   "cell_type": "code",
   "execution_count": null,
   "metadata": {},
   "outputs": [],
   "source": [
    "def encoderC4(ne, nj):\n",
    "    assert(ne > 0 and nj > 0)\n",
    "    C4 = ''\n",
    "    for x in range(ne):\n",
    "        for j in range(nj-2):\n",
    "            L_ext = [codage(ne, nj, j, y, x) for y in range(ne) if y != x] + [codage(ne, nj, j+1, y, x) for y in range(ne) if y != x] + [codage(ne, nj, j+2, y, x) for y in range(ne) if y != x]\n",
    "            C4 += au_plus_etendu(L_ext, 2)\n",
    "            L_dom = [codage(ne, nj, j, x, y) for y in range(ne) if y != x] + [codage(ne, nj, j+1, x, y) for y in range(ne) if y != x] + [codage(ne, nj, j+2, x, y) for y in range(ne) if y != x]\n",
    "            C4 += au_plus_etendu(L_dom, 2)\n",
    "    return C4, len(C4.split('\\n'))-1\n",
    "\n",
    "C4, n4 = encoderC4(3, 4)\n",
    "print('Nombres de contraintes C4 : ', n4)\n",
    "print('Contraintes C4 : ', C4)"
   ]
  },
  {
   "cell_type": "code",
   "execution_count": null,
   "metadata": {},
   "outputs": [],
   "source": [
    "def encoder_etendu(ne, nj):\n",
    "    assert(ne > 0 and nj > 0)\n",
    "    C0, n0 = encoderC0(ne, nj)\n",
    "    C1, n1 = encoderC1(ne, nj)\n",
    "    C2, n2 = encoderC2(ne, nj)\n",
    "    C3, n3 = encoderC3(ne, nj)\n",
    "    C4, n4 = encoderC4(ne, nj)\n",
    "    return f'p cnf {nj*ne**2} {n0+n1+n2+n3+n4}\\n{C0}{C1}{C2}{C3}{C4}'\n",
    "\n",
    "def programme_etendu(ne, nj, equipes):\n",
    "    os.system(f'echo \"{encoder_etendu(ne, nj)}\" | ../glucose/simp/glucose -model > resultats.txt')\n",
    "    return decoder(ne, equipes)"
   ]
  },
  {
   "cell_type": "code",
   "execution_count": null,
   "metadata": {},
   "outputs": [],
   "source": [
    "print(programme_etendu(3, 9, 'equipes.txt'))"
   ]
  }
 ],
 "metadata": {
  "kernelspec": {
   "display_name": "Python 3",
   "language": "python",
   "name": "python3"
  },
  "language_info": {
   "codemirror_mode": {
    "name": "ipython",
    "version": 3
   },
   "file_extension": ".py",
   "mimetype": "text/x-python",
   "name": "python",
   "nbconvert_exporter": "python",
   "pygments_lexer": "ipython3",
   "version": "3.11.8"
  }
 },
 "nbformat": 4,
 "nbformat_minor": 2
}
